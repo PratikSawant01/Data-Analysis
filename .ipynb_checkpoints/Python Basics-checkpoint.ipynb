{
 "cells": [
  {
   "cell_type": "markdown",
   "metadata": {},
   "source": [
    "# Python Basics"
   ]
  },
  {
   "cell_type": "markdown",
   "metadata": {},
   "source": [
    "## Largest Element\n",
    "Function that returns the largest element in a list."
   ]
  },
  {
   "cell_type": "code",
   "execution_count": 340,
   "metadata": {
    "collapsed": true
   },
   "outputs": [],
   "source": [
    "def get_largest_element(my_list):\n",
    "    maximum=my_list[0]\n",
    "    for i in my_list:\n",
    "        if(i>maximum):\n",
    "            maximum=i\n",
    "    print(\"Maximum number in list is:\" + str(maximum)) \n"
   ]
  },
  {
   "cell_type": "code",
   "execution_count": 341,
   "metadata": {},
   "outputs": [
    {
     "name": "stdout",
     "output_type": "stream",
     "text": [
      "Maximum number in list is:133\n"
     ]
    }
   ],
   "source": [
    "get_largest_element([13, 25, 29, 17, 99, 133, -12, 0, 18])\n"
   ]
  },
  {
   "cell_type": "markdown",
   "metadata": {},
   "source": [
    "## Reverse List\n",
    "\n",
    "Function that reverses a list."
   ]
  },
  {
   "cell_type": "code",
   "execution_count": 342,
   "metadata": {
    "collapsed": true
   },
   "outputs": [],
   "source": [
    "def reverse_list(my_list):\n",
    "    my_rev_list=[]\n",
    "    for i in range(len(my_list)):\n",
    "        my_rev_list.append(my_list[len(my_list)-i-1])      \n",
    "    print(\"Original list:\"+str(my_list))\n",
    "    print(\"Reversed list:\"+str(my_rev_list))   \n",
    "    print(\"-------------\") \n",
    "       "
   ]
  },
  {
   "cell_type": "code",
   "execution_count": 343,
   "metadata": {},
   "outputs": [
    {
     "name": "stdout",
     "output_type": "stream",
     "text": [
      "Original list:[4, 87, 106, -5, 289, 45, -32, 58, 230]\n",
      "Reversed list:[230, 58, -32, 45, 289, -5, 106, 87, 4]\n",
      "-------------\n",
      "Original list:['Pratik', 'Ashutosh', 'Datascience', 'Masters']\n",
      "Reversed list:['Masters', 'Datascience', 'Ashutosh', 'Pratik']\n",
      "-------------\n",
      "Original list:['Dinky', 42, 'Information Systems', 1024, -98, 'Utah']\n",
      "Reversed list:['Utah', -98, 1024, 'Information Systems', 42, 'Dinky']\n",
      "-------------\n"
     ]
    }
   ],
   "source": [
    "# function call with a couple of different lists and reults printed\n",
    "reverse_list([4, 87, 106, -5, 289, 45, -32, 58, 230])\n",
    "reverse_list([\"Pratik\", \"Ashutosh\", \"Datascience\", \"Masters\"])\n",
    "reverse_list([\"Dinky\", 42, \"Information Systems\", 1024, -98, \"Utah\"])"
   ]
  },
  {
   "cell_type": "markdown",
   "metadata": {},
   "source": [
    "## Combining List\n",
    "\n",
    "Function that combines two lists by alternatingly taking elements, e.g. [a,b,c], [1,2,3] → [a,1,b,2,c,3]."
   ]
  },
  {
   "cell_type": "code",
   "execution_count": 344,
   "metadata": {
    "collapsed": true
   },
   "outputs": [],
   "source": [
    "def two_list(my_list1,my_list2):\n",
    "    comb_list=[]\n",
    "    if(len(my_list1)>len(my_list2)):\n",
    "        for i in range(len(my_list2)):\n",
    "            comb_list.append(my_list1[i])\n",
    "            comb_list.append(my_list2[i]) \n",
    "        for i in range(len(my_list2),len(my_list1)):\n",
    "            comb_list.append(my_list1[i])  \n",
    "            \n",
    "    if(len(my_list2)>len(my_list1)):     \n",
    "        for i in range(len(my_list1)):\n",
    "            comb_list.append(my_list1[i])\n",
    "            comb_list.append(my_list2[i]) \n",
    "        for i in range(len(my_list1),len(my_list2)):\n",
    "            comb_list.append(my_list2[i]) \n",
    "                       \n",
    "    if(len(my_list1)==len(my_list2)):\n",
    "        for i in range(len(my_list1)):\n",
    "            comb_list.append(my_list1[i])\n",
    "            comb_list.append(my_list2[i])\n",
    "        \n",
    "    print(\"List 1:\"+str(my_list1)+'\\n'+\"List 2:\"+str(my_list2))\n",
    "    print(\"Combined list:\"+str(comb_list))\n",
    "    print(\"-------------------\")"
   ]
  },
  {
   "cell_type": "code",
   "execution_count": 345,
   "metadata": {
    "scrolled": false
   },
   "outputs": [
    {
     "name": "stdout",
     "output_type": "stream",
     "text": [
      "List 1:[1, 2, 3, 4, 5, 6, 7]\n",
      "List 2:['a', 'b', 'c', 'd', 'e', 'f', 'g']\n",
      "Combined list:[1, 'a', 2, 'b', 3, 'c', 4, 'd', 5, 'e', 6, 'f', 7, 'g']\n",
      "-------------------\n",
      "List 1:[1, 2, 3, 4, 5, 6, 7, 8, 9, 10, 11]\n",
      "List 2:['a', 'b', 'c', 'd', 'e', 'f', 'g']\n",
      "Combined list:[1, 'a', 2, 'b', 3, 'c', 4, 'd', 5, 'e', 6, 'f', 7, 'g', 8, 9, 10, 11]\n",
      "-------------------\n",
      "List 1:[1, 2, 3, 4, 5, 6, 7]\n",
      "List 2:['a', 'b', 'c', 'd', 'e', 'f', 'g', 'h', 'i', 'j', 'k']\n",
      "Combined list:[1, 'a', 2, 'b', 3, 'c', 4, 'd', 5, 'e', 6, 'f', 7, 'g', 'h', 'i', 'j', 'k']\n",
      "-------------------\n"
     ]
    }
   ],
   "source": [
    "#function call with a couple of different lists and reults printed here\n",
    "two_list([1,2,3,4,5,6,7],[\"a\",\"b\",\"c\",\"d\",\"e\",\"f\",\"g\"])\n",
    "two_list([1,2,3,4,5,6,7,8,9,10,11],[\"a\",\"b\",\"c\",\"d\",\"e\",\"f\",\"g\"])\n",
    "two_list([1,2,3,4,5,6,7],[\"a\",\"b\",\"c\",\"d\",\"e\",\"f\",\"g\",\"h\",\"i\",\"j\",\"k\"])"
   ]
  },
  {
   "cell_type": "markdown",
   "metadata": {},
   "source": [
    "## Numbers to Digits\n",
    "\n",
    "Function that takes a number and returns a list of its digits."
   ]
  },
  {
   "cell_type": "code",
   "execution_count": 346,
   "metadata": {
    "collapsed": true
   },
   "outputs": [],
   "source": [
    "def return_digits(a):\n",
    "    digit_list=[]\n",
    "    b=a\n",
    "    while(a!=0):\n",
    "        digit_list.append(a%10)\n",
    "        a=int(a/10)\n",
    "    digit_list.reverse()\n",
    "    d=digit_list\n",
    "    print(\"Entered Number:\"+str(b))\n",
    "    print(\"List of Digits:\"+str(d))\n",
    "    print(\"---------------\")"
   ]
  },
  {
   "cell_type": "code",
   "execution_count": 347,
   "metadata": {},
   "outputs": [
    {
     "name": "stdout",
     "output_type": "stream",
     "text": [
      "Entered Number:1213612087\n",
      "List of Digits:[1, 2, 1, 3, 6, 1, 2, 0, 8, 7]\n",
      "---------------\n",
      "Entered Number:7552333\n",
      "List of Digits:[7, 5, 5, 2, 3, 3, 3]\n",
      "---------------\n"
     ]
    }
   ],
   "source": [
    "#function call with a couple of different lists reults printed here\n",
    "return_digits(1213612087)\n",
    "return_digits(7552333)"
   ]
  },
  {
   "cell_type": "markdown",
   "metadata": {},
   "source": [
    "## Sums\n",
    "\n",
    "Functions that compute the sum of the numbers in a list: using a for-loop, a while-loop and recursion."
   ]
  },
  {
   "cell_type": "code",
   "execution_count": 353,
   "metadata": {
    "collapsed": true
   },
   "outputs": [],
   "source": [
    "def sum_of_numbers_for(my_list):\n",
    "    sum1=0\n",
    "    for i in range(len(my_list)):\n",
    "        sum1=sum1+my_list[i]\n",
    "    print(\"Sum of list elements using For-loop: \"+str(sum1))\n",
    "\n",
    "def sum_of_numbers_while(my_list1):\n",
    "    i=0\n",
    "    sum2=0\n",
    "    while (i<len(my_list1)):\n",
    "        sum2=sum2+my_list1[i]\n",
    "        i=i+1\n",
    "    print(\"Sum of list elements using While-loop: \"+str(sum2))\n",
    "    \n",
    "def sum_of_numbers_recur(my_list2):\n",
    "        if(len(my_list2)==0): \n",
    "            return 0 \n",
    "        else:\n",
    "            return my_list2[len(my_list2)-1]+sum_of_numbers_recur(my_list2[0:len(my_list2)-1])"
   ]
  },
  {
   "cell_type": "code",
   "execution_count": 354,
   "metadata": {},
   "outputs": [
    {
     "name": "stdout",
     "output_type": "stream",
     "text": [
      "Sum of list elements using For-loop: 16\n",
      "Sum of list elements using While-loop: 13\n",
      "Sum of list elements using recursive-loop: 181\n"
     ]
    }
   ],
   "source": [
    "# function call with a couple of different lists and rseults printed here\n",
    "sum_of_numbers_for([1, 2, 1, 3, 6, 1, 2])\n",
    "sum_of_numbers_while([1, 2, 1, 3, 6,])\n",
    "k=sum_of_numbers_recur([4, 20,12,45,100])\n",
    "print(\"Sum of list elements using recursive-loop: \"+str(k))"
   ]
  },
  {
   "cell_type": "markdown",
   "metadata": {},
   "source": [
    "## Fibonacchi Sequence\n",
    "\n",
    "Function that takes a number n and an empty array that writes the first n numbers of the Fibonacchi Sequence into the empty array. \n",
    "\n",
    "The Fibonnachi Sequnece where every number after the first two is the sum of the previous two numbers, i.e.,\n",
    "\n",
    "1, 1, 2, 3, 5, 8, 13, 21, 34, 55, ..."
   ]
  },
  {
   "cell_type": "code",
   "execution_count": 361,
   "metadata": {
    "collapsed": true
   },
   "outputs": [],
   "source": [
    "def fibo_list(n,list1):\n",
    "    def fibo(n):\n",
    "        if(n==1):\n",
    "            return 1\n",
    "        elif(n==0):\n",
    "            return 0\n",
    "        else:\n",
    "            return fibo(n-1)+fibo(n-2)\n",
    "    for i in range(0,n):\n",
    "            list1.append(fibo(i))\n",
    "        \n",
    "    print(\"Fibonacchi list for:\"+str(n)+\"\\n\"+str(list1))\n",
    "    print(\"--------------------\")\n",
    "        "
   ]
  },
  {
   "cell_type": "code",
   "execution_count": 362,
   "metadata": {},
   "outputs": [
    {
     "name": "stdout",
     "output_type": "stream",
     "text": [
      "Fibonacchi list for:9\n",
      "[0, 1, 1, 2, 3, 5, 8, 13, 21]\n",
      "--------------------\n",
      "Fibonacchi list for:0\n",
      "[]\n",
      "--------------------\n",
      "Fibonacchi list for:4\n",
      "[0, 1, 1, 2]\n",
      "--------------------\n",
      "Fibonacchi list for:13\n",
      "[0, 1, 1, 2, 3, 5, 8, 13, 21, 34, 55, 89, 144]\n",
      "--------------------\n"
     ]
    }
   ],
   "source": [
    "#function call with a couple of different n and results printed here\n",
    "fibo_list(9,[])\n",
    "fibo_list(0,[])\n",
    "fibo_list(4,[])\n",
    "fibo_list(13,[])"
   ]
  },
  {
   "cell_type": "markdown",
   "metadata": {},
   "source": [
    "## Rainfall\n",
    "\n",
    "Function called rainfall that reads a list of numbers representing daily rainfall amounts. The list may contain the number -999 indicating the end of the data of interest. Produce the average of the non-negative values in the list up to the first -999 (if it shows up). There may be negative numbers other than -999 in the list.\n",
    "\n",
    "test with several different test arrays."
   ]
  },
  {
   "cell_type": "code",
   "execution_count": 363,
   "metadata": {
    "collapsed": true
   },
   "outputs": [],
   "source": [
    "rainfall_one = [16, 19, 22, 41, -999, 199, 254]\n",
    "rainfall_two = [33, 24, 10, -2, -99, 0, 15, 82, -1325, 15]\n",
    "rainfall_three = [2, 2, -999, 10]\n",
    "rainfall_four = [-999, 2, 5, -19, 16]\n",
    "rainfall_five = [96,-45,-76,324,48,0,-999,23,-45,4]"
   ]
  },
  {
   "cell_type": "code",
   "execution_count": 365,
   "metadata": {
    "collapsed": true
   },
   "outputs": [],
   "source": [
    "def rainfall(rainfall_list):\n",
    "    i=0\n",
    "    sum5=0\n",
    "    avg=0\n",
    "    for item in rainfall_list:\n",
    "        if(item==-999):\n",
    "            break\n",
    "        if(item<0):\n",
    "            continue\n",
    "        else:\n",
    "            i=i+1\n",
    "            sum5=sum5+item\n",
    "       \n",
    "    if(i!=0):\n",
    "        avg=sum5/i\n",
    "        print(\"Average of non-negative: \"+str(avg)) \n",
    "    else:\n",
    "        print(\"First element is -999\")        "
   ]
  },
  {
   "cell_type": "code",
   "execution_count": 366,
   "metadata": {},
   "outputs": [
    {
     "name": "stdout",
     "output_type": "stream",
     "text": [
      "Average of non-negative: 24.5\n"
     ]
    }
   ],
   "source": [
    "# results for all the lists above \n",
    "rainfall(rainfall_one)"
   ]
  },
  {
   "cell_type": "code",
   "execution_count": 367,
   "metadata": {},
   "outputs": [
    {
     "name": "stdout",
     "output_type": "stream",
     "text": [
      "Average of non-negative: 25.571428571428573\n"
     ]
    }
   ],
   "source": [
    "rainfall(rainfall_two)"
   ]
  },
  {
   "cell_type": "code",
   "execution_count": 368,
   "metadata": {
    "scrolled": true
   },
   "outputs": [
    {
     "name": "stdout",
     "output_type": "stream",
     "text": [
      "Average of non-negative: 2.0\n"
     ]
    }
   ],
   "source": [
    "rainfall(rainfall_three)"
   ]
  },
  {
   "cell_type": "code",
   "execution_count": 369,
   "metadata": {},
   "outputs": [
    {
     "name": "stdout",
     "output_type": "stream",
     "text": [
      "First element is -999\n"
     ]
    }
   ],
   "source": [
    "rainfall(rainfall_four)"
   ]
  },
  {
   "cell_type": "code",
   "execution_count": 370,
   "metadata": {},
   "outputs": [
    {
     "name": "stdout",
     "output_type": "stream",
     "text": [
      "Average of non-negative: 117.0\n"
     ]
    }
   ],
   "source": [
    "rainfall(rainfall_five)"
   ]
  }
 ],
 "metadata": {
  "anaconda-cloud": {},
  "kernelspec": {
   "display_name": "Python 3",
   "language": "python",
   "name": "python3"
  },
  "language_info": {
   "codemirror_mode": {
    "name": "ipython",
    "version": 3
   },
   "file_extension": ".py",
   "mimetype": "text/x-python",
   "name": "python",
   "nbconvert_exporter": "python",
   "pygments_lexer": "ipython3",
   "version": "3.6.3"
  }
 },
 "nbformat": 4,
 "nbformat_minor": 1
}
