{
 "cells": [
  {
   "cell_type": "markdown",
   "metadata": {},
   "source": [
    "# Web Scrapping of Github Repositories and Analysis of scrapped data\n",
    "\n",
    "Here I will scrape github repositories and organize the information in a Pandas dataframe. In Part 2,I will use linear regression to gain meaningful insights. "
   ]
  },
  {
   "cell_type": "code",
   "execution_count": 2,
   "metadata": {
    "collapsed": true
   },
   "outputs": [],
   "source": [
    "# imports and setup \n",
    "from bs4 import BeautifulSoup\n",
    "import requests\n",
    "import urllib.request\n",
    "\n",
    "\n",
    "import pandas as pd\n",
    "import scipy as sc\n",
    "import numpy as np\n",
    "\n",
    "import statsmodels.formula.api as sm\n",
    "\n",
    "import matplotlib.pyplot as plt \n",
    "plt.style.use('ggplot')\n",
    "%matplotlib inline  \n",
    "plt.rcParams['figure.figsize'] = (10, 6) "
   ]
  },
  {
   "cell_type": "markdown",
   "metadata": {},
   "source": [
    "### 1. Scrape Github Repository List and Repository Information using BeautifulSoup\n",
    "In this part I will explore over 2 million Github repositories.\n",
    "(https://github.com/search?o=desc&q=stars%3A%3E1&s=stars&type=Repositories).\n",
    "\n",
    "and download the first ten pages of the list of highly starred repositories here: \n",
    "https://github.com/search?o=desc&q=stars%3A%3E1&s=stars&type=Repositories"
   ]
  },
  {
   "cell_type": "code",
   "execution_count": 4,
   "metadata": {
    "collapsed": true
   },
   "outputs": [],
   "source": [
    "# download the fist ten pages\n",
    "from bs4 import BeautifulSoup\n",
    "import requests\n",
    "import urllib.request\n",
    "from time import time\n",
    "from time import sleep\n",
    "html1=bytes()\n",
    "#url= \"https://github.com/search?o=desc&q=stars%3A%3E1&s=stars&type=Repositories\"\n",
    "pages = [str(i) for i in range(1,11)]\n",
    "for page in pages:\n",
    "    url=\"https://github.com/search?o=desc&p=\"+page+\"&q=stars%3A%3E1&s=stars&type=Repositories\"\n",
    "    #print(url)\n",
    "    req = urllib.request.Request(url)\n",
    "    sleep(30) \n",
    "    with urllib.request.urlopen(req) as response:\n",
    "        html = response.read()\n",
    "        html1=html+html1"
   ]
  },
  {
   "cell_type": "code",
   "execution_count": 5,
   "metadata": {
    "collapsed": true,
    "scrolled": false
   },
   "outputs": [],
   "source": [
    "# Creating the soup\n",
    "gitrepo_soup= BeautifulSoup(html1, 'html.parser')\n",
    "#print(gitrepo_soup.prettify())\n",
    "#print(html1)"
   ]
  },
  {
   "cell_type": "markdown",
   "metadata": {},
   "source": [
    "### Extract Data\n",
    "\n",
    "Extracted the foolowing data for each repository, and created a Pandas Dataframe with a row for each repository and a column for each of these datums. \n",
    "\n",
    "1. Name of the repository\n",
    "+ URL of the repository \n",
    "+ Number of Contributors \n",
    "+ Programming Language Used \n",
    "+ Number of stars \n",
    "+ Number of issues\n",
    "+ Number of files \n",
    "+ Length of readme file.\n"
   ]
  },
  {
   "cell_type": "code",
   "execution_count": 6,
   "metadata": {
    "collapsed": true
   },
   "outputs": [],
   "source": [
    "gitrepo_contain= gitrepo_soup.find_all('div', class_= 'repo-list-item d-flex flex-justify-start py-4 public source')\n",
    "\n",
    "name=[]\n",
    "link=[]\n",
    "language=[]\n",
    "noofstars=[]\n",
    "\n",
    "\n",
    "for rep in gitrepo_contain:\n",
    "    nam=rep.h3.a.text\n",
    "    name.append(nam)\n",
    "    \n",
    "    lin=\"https://github.com\"+rep.h3.a[\"href\"]\n",
    "    link.append(lin)\n",
    "    \n",
    "    lang=rep.find('div', class_='d-table-cell col-2 text-gray pt-2')\n",
    "    lang=lang.text\n",
    "    lang=lang.strip()\n",
    "    language.append(lang)\n",
    "    \n",
    "    nofstar=rep.find('div', class_='col-2 text-right pt-1 pr-3 pt-2')\n",
    "    nofstar=nofstar.a.text\n",
    "    nofstar=nofstar.strip()\n",
    "    noofstars.append(nofstar)\n",
    "    "
   ]
  },
  {
   "cell_type": "code",
   "execution_count": 34,
   "metadata": {
    "collapsed": true
   },
   "outputs": [],
   "source": [
    "import re\n",
    "issues=[]\n",
    "forks=[]\n",
    "contributers=[]\n",
    "readmelength=[]\n",
    "count=0\n",
    "for li in link:\n",
    "    url007=li\n",
    "    #count=count+1\n",
    "    #print(count)\n",
    "    #print(url)\n",
    "    req007 = urllib.request.Request(url007)\n",
    "    #sleep(10) \n",
    "    with urllib.request.urlopen(req007) as response:\n",
    "        html2 = response.read()\n",
    "    gitrepo_soup007= BeautifulSoup(html2, 'html.parser')\n",
    "    if gitrepo_soup007.find('article',class_=\"markdown-body entry-content\") is not None:\n",
    "        iss=gitrepo_soup007.find('span', class_=\"Counter\").text\n",
    "        issues.append(iss)\n",
    "    \n",
    "        frk=gitrepo_soup007.find('a', href=re.compile(\"/network\")).text.strip()\n",
    "        forks.append(frk)\n",
    "    \n",
    "        contri=gitrepo_soup007.find('a',href=re.compile(\"/contributors\")).span.text.strip()\n",
    "        contributers.append(contri)\n",
    "    \n",
    "    \n",
    "        rdm=gitrepo_soup007.find('article',class_=\"markdown-body entry-content\") \n",
    "        rdm_len=len(rdm.text)\n",
    "        readmelength.append(rdm_len)\n",
    "    else:\n",
    "        readmelength.append(0)\n",
    "        iss=gitrepo_soup007.find('span', class_=\"Counter\").text\n",
    "        issues.append(iss)\n",
    "    \n",
    "        frk=gitrepo_soup007.find('a', href=re.compile(\"/network\")).text.strip()\n",
    "        forks.append(frk)\n",
    "    \n",
    "        contri=gitrepo_soup007.find('a',href=re.compile(\"/contributors\")).span.text.strip()\n",
    "        contributers.append(contri)\n",
    "    "
   ]
  },
  {
   "cell_type": "code",
   "execution_count": 35,
   "metadata": {
    "collapsed": true,
    "scrolled": true
   },
   "outputs": [],
   "source": [
    "#Convert list into DataFrame\n",
    "import pandas as pd\n",
    "\n",
    "gitrepo_df = pd.DataFrame({'Name of the repository': name,\n",
    "                           'URL': link,\n",
    "                           'Language': language,\n",
    "                           'Stars': noofstars,\n",
    "                           'Forks':forks,\n",
    "                           'Issues':issues,\n",
    "                           'Contributors':contributers,\n",
    "                           'ReadmeLength':readmelength})\n"
   ]
  },
  {
   "cell_type": "code",
   "execution_count": 25,
   "metadata": {
    "collapsed": true
   },
   "outputs": [],
   "source": [
    "#Saved dataframe to file project_info.csv\n",
    "gitrepo_df.to_csv('project_info.csv')"
   ]
  },
  {
   "cell_type": "markdown",
   "metadata": {},
   "source": [
    "### 2. linear regression to analyze the Github repository data\n",
    "\n",
    "In this part, I analyzed the data collectd in Part 1 using regression tools. The goal is to identify properties that make a repository popular. \n"
   ]
  },
  {
   "cell_type": "code",
   "execution_count": 30,
   "metadata": {
    "scrolled": true
   },
   "outputs": [
    {
     "data": {
      "text/html": [
       "<div>\n",
       "<style>\n",
       "    .dataframe thead tr:only-child th {\n",
       "        text-align: right;\n",
       "    }\n",
       "\n",
       "    .dataframe thead th {\n",
       "        text-align: left;\n",
       "    }\n",
       "\n",
       "    .dataframe tbody tr th {\n",
       "        vertical-align: top;\n",
       "    }\n",
       "</style>\n",
       "<table border=\"1\" class=\"dataframe\">\n",
       "  <thead>\n",
       "    <tr style=\"text-align: right;\">\n",
       "      <th></th>\n",
       "      <th>Contributors</th>\n",
       "      <th>Forks</th>\n",
       "      <th>Issues</th>\n",
       "      <th>Language</th>\n",
       "      <th>Name of the repository</th>\n",
       "      <th>ReadmeLength</th>\n",
       "      <th>Stars</th>\n",
       "      <th>URL</th>\n",
       "    </tr>\n",
       "  </thead>\n",
       "  <tbody>\n",
       "    <tr>\n",
       "      <th>0</th>\n",
       "      <td>514</td>\n",
       "      <td>16,728</td>\n",
       "      <td>606</td>\n",
       "      <td>C++</td>\n",
       "      <td>bitcoin/bitcoin</td>\n",
       "      <td>2957</td>\n",
       "      <td>28.2k</td>\n",
       "      <td>https://github.com/bitcoin/bitcoin</td>\n",
       "    </tr>\n",
       "    <tr>\n",
       "      <th>1</th>\n",
       "      <td>767</td>\n",
       "      <td>3,630</td>\n",
       "      <td>9</td>\n",
       "      <td>Go</td>\n",
       "      <td>avelino/awesome-go</td>\n",
       "      <td>104719</td>\n",
       "      <td>28.1k</td>\n",
       "      <td>https://github.com/avelino/awesome-go</td>\n",
       "    </tr>\n",
       "    <tr>\n",
       "      <th>2</th>\n",
       "      <td>154</td>\n",
       "      <td>2,315</td>\n",
       "      <td>324</td>\n",
       "      <td>C</td>\n",
       "      <td>firehol/netdata</td>\n",
       "      <td>8327</td>\n",
       "      <td>27.7k</td>\n",
       "      <td>https://github.com/firehol/netdata</td>\n",
       "    </tr>\n",
       "    <tr>\n",
       "      <th>3</th>\n",
       "      <td>244</td>\n",
       "      <td>10,594</td>\n",
       "      <td>1,038</td>\n",
       "      <td>C</td>\n",
       "      <td>antirez/redis</td>\n",
       "      <td>19514</td>\n",
       "      <td>27.6k</td>\n",
       "      <td>https://github.com/antirez/redis</td>\n",
       "    </tr>\n",
       "    <tr>\n",
       "      <th>4</th>\n",
       "      <td>118</td>\n",
       "      <td>1,807</td>\n",
       "      <td>237</td>\n",
       "      <td>JavaScript</td>\n",
       "      <td>GoogleChrome/puppeteer</td>\n",
       "      <td>9096</td>\n",
       "      <td>27.1k</td>\n",
       "      <td>https://github.com/GoogleChrome/puppeteer</td>\n",
       "    </tr>\n",
       "  </tbody>\n",
       "</table>\n",
       "</div>"
      ],
      "text/plain": [
       "  Contributors   Forks Issues    Language  Name of the repository  \\\n",
       "0          514  16,728    606         C++         bitcoin/bitcoin   \n",
       "1          767   3,630      9          Go      avelino/awesome-go   \n",
       "2          154   2,315    324           C         firehol/netdata   \n",
       "3          244  10,594  1,038           C           antirez/redis   \n",
       "4          118   1,807    237  JavaScript  GoogleChrome/puppeteer   \n",
       "\n",
       "   ReadmeLength  Stars                                        URL  \n",
       "0          2957  28.2k         https://github.com/bitcoin/bitcoin  \n",
       "1        104719  28.1k      https://github.com/avelino/awesome-go  \n",
       "2          8327  27.7k         https://github.com/firehol/netdata  \n",
       "3         19514  27.6k           https://github.com/antirez/redis  \n",
       "4          9096  27.1k  https://github.com/GoogleChrome/puppeteer  "
      ]
     },
     "execution_count": 30,
     "metadata": {},
     "output_type": "execute_result"
    }
   ],
   "source": [
    "# this loads the data from the project_info.csv file \n",
    "project_info = pd.read_csv('project_info.csv')\n",
    "del project_info['Unnamed: 0']\n",
    "project_info.head(5)"
   ]
  },
  {
   "cell_type": "markdown",
   "metadata": {
    "collapsed": true
   },
   "source": [
    "### Reformating the data into useful datatypes\n",
    "\n",
    "+ Reformated the colums Issues, Forks, Stars, and Contributers to be integer data\n",
    "+ There is one repository flagged as having infinite contributers (the Linux kernel). We'll assume that it in fact has 15000 contributors (about twice as much as the next project). "
   ]
  },
  {
   "cell_type": "code",
   "execution_count": 31,
   "metadata": {},
   "outputs": [
    {
     "name": "stdout",
     "output_type": "stream",
     "text": [
      "Contributors              object\n",
      "Forks                     object\n",
      "Issues                    object\n",
      "Language                  object\n",
      "Name of the repository    object\n",
      "ReadmeLength               int64\n",
      "Stars                     object\n",
      "URL                       object\n",
      "dtype: object\n"
     ]
    }
   ],
   "source": [
    "print(project_info.dtypes)"
   ]
  },
  {
   "cell_type": "code",
   "execution_count": 32,
   "metadata": {
    "scrolled": true
   },
   "outputs": [
    {
     "name": "stderr",
     "output_type": "stream",
     "text": [
      "C:\\Users\\Pratik S\\Anaconda3\\lib\\site-packages\\ipykernel_launcher.py:7: SettingWithCopyWarning: \n",
      "A value is trying to be set on a copy of a slice from a DataFrame\n",
      "\n",
      "See the caveats in the documentation: http://pandas.pydata.org/pandas-docs/stable/indexing.html#indexing-view-versus-copy\n",
      "  import sys\n"
     ]
    }
   ],
   "source": [
    "project_info['Contributors']=project_info['Contributors'].replace('?','15000')\n",
    "project_info['Issues'] = project_info['Issues'] .str.replace(',','').astype(int)\n",
    "project_info['Forks'] = project_info['Forks'] .str.replace(',','').astype(int)\n",
    "project_info['Stars']=project_info['Stars'].astype(str).str.replace(r\"k\",'')\n",
    "project_info['Stars']=project_info['Stars'].astype(float)\n",
    "for i in range(0,100):\n",
    "    project_info['Stars'][i]= project_info['Stars'][i]*1000\n",
    "project_info['Stars']=project_info['Stars'].astype(int)\n",
    "#project_info['Contributors']=project_info['Contributors'].str.replace(',','').astype(int)"
   ]
  },
  {
   "cell_type": "code",
   "execution_count": 33,
   "metadata": {},
   "outputs": [
    {
     "name": "stdout",
     "output_type": "stream",
     "text": [
      "Contributors              object\n",
      "Forks                      int32\n",
      "Issues                     int32\n",
      "Language                  object\n",
      "Name of the repository    object\n",
      "ReadmeLength               int64\n",
      "Stars                      int32\n",
      "URL                       object\n",
      "dtype: object\n"
     ]
    }
   ],
   "source": [
    "print(project_info.dtypes)"
   ]
  },
  {
   "cell_type": "code",
   "execution_count": 113,
   "metadata": {},
   "outputs": [
    {
     "data": {
      "text/html": [
       "<div>\n",
       "<style>\n",
       "    .dataframe thead tr:only-child th {\n",
       "        text-align: right;\n",
       "    }\n",
       "\n",
       "    .dataframe thead th {\n",
       "        text-align: left;\n",
       "    }\n",
       "\n",
       "    .dataframe tbody tr th {\n",
       "        vertical-align: top;\n",
       "    }\n",
       "</style>\n",
       "<table border=\"1\" class=\"dataframe\">\n",
       "  <thead>\n",
       "    <tr style=\"text-align: right;\">\n",
       "      <th></th>\n",
       "      <th>Contributors</th>\n",
       "      <th>Forks</th>\n",
       "      <th>Issues</th>\n",
       "      <th>Language</th>\n",
       "      <th>Name of the repository</th>\n",
       "      <th>ReadmeLength</th>\n",
       "      <th>Stars</th>\n",
       "      <th>URL</th>\n",
       "    </tr>\n",
       "  </thead>\n",
       "  <tbody>\n",
       "    <tr>\n",
       "      <th>90</th>\n",
       "      <td>733</td>\n",
       "      <td>13488</td>\n",
       "      <td>165</td>\n",
       "      <td>JavaScript</td>\n",
       "      <td>freeCodeCamp/freeCodeCamp</td>\n",
       "      <td>68</td>\n",
       "      <td>292000</td>\n",
       "      <td>https://github.com/freeCodeCamp/freeCodeCamp</td>\n",
       "    </tr>\n",
       "    <tr>\n",
       "      <th>91</th>\n",
       "      <td>985</td>\n",
       "      <td>57790</td>\n",
       "      <td>320</td>\n",
       "      <td>CSS</td>\n",
       "      <td>twbs/bootstrap</td>\n",
       "      <td>91</td>\n",
       "      <td>122000</td>\n",
       "      <td>https://github.com/twbs/bootstrap</td>\n",
       "    </tr>\n",
       "    <tr>\n",
       "      <th>92</th>\n",
       "      <td>981</td>\n",
       "      <td>25856</td>\n",
       "      <td>17</td>\n",
       "      <td>NaN</td>\n",
       "      <td>EbookFoundation/free-programming-books</td>\n",
       "      <td>50</td>\n",
       "      <td>102000</td>\n",
       "      <td>https://github.com/EbookFoundation/free-progra...</td>\n",
       "    </tr>\n",
       "    <tr>\n",
       "      <th>93</th>\n",
       "      <td>1347</td>\n",
       "      <td>58596</td>\n",
       "      <td>1191</td>\n",
       "      <td>C++</td>\n",
       "      <td>tensorflow/tensorflow</td>\n",
       "      <td>50</td>\n",
       "      <td>90300</td>\n",
       "      <td>https://github.com/tensorflow/tensorflow</td>\n",
       "    </tr>\n",
       "    <tr>\n",
       "      <th>94</th>\n",
       "      <td>1167</td>\n",
       "      <td>16849</td>\n",
       "      <td>332</td>\n",
       "      <td>JavaScript</td>\n",
       "      <td>facebook/react</td>\n",
       "      <td>56</td>\n",
       "      <td>89100</td>\n",
       "      <td>https://github.com/facebook/react</td>\n",
       "    </tr>\n",
       "  </tbody>\n",
       "</table>\n",
       "</div>"
      ],
      "text/plain": [
       "    Contributors  Forks  Issues    Language  \\\n",
       "90           733  13488     165  JavaScript   \n",
       "91           985  57790     320         CSS   \n",
       "92           981  25856      17         NaN   \n",
       "93          1347  58596    1191         C++   \n",
       "94          1167  16849     332  JavaScript   \n",
       "\n",
       "                    Name of the repository  ReadmeLength   Stars  \\\n",
       "90               freeCodeCamp/freeCodeCamp            68  292000   \n",
       "91                          twbs/bootstrap            91  122000   \n",
       "92  EbookFoundation/free-programming-books            50  102000   \n",
       "93                   tensorflow/tensorflow            50   90300   \n",
       "94                          facebook/react            56   89100   \n",
       "\n",
       "                                                  URL  \n",
       "90       https://github.com/freeCodeCamp/freeCodeCamp  \n",
       "91                  https://github.com/twbs/bootstrap  \n",
       "92  https://github.com/EbookFoundation/free-progra...  \n",
       "93           https://github.com/tensorflow/tensorflow  \n",
       "94                  https://github.com/facebook/react  "
      ]
     },
     "execution_count": 113,
     "metadata": {},
     "output_type": "execute_result"
    }
   ],
   "source": [
    "project_info.sort_values('Stars',ascending=False).head()"
   ]
  },
  {
   "cell_type": "markdown",
   "metadata": {},
   "source": [
    "### Describing the data\n",
    "\n",
    "+ Overview of the data using the describe function.\n",
    "+ Computing the correlation matrix, visualizing it with a heat map.\n",
    "+ Visualizing the correlations by making a scatterplot matrix.\n",
    "+ Interpretation\n"
   ]
  },
  {
   "cell_type": "code",
   "execution_count": 114,
   "metadata": {},
   "outputs": [
    {
     "data": {
      "text/html": [
       "<div>\n",
       "<style>\n",
       "    .dataframe thead tr:only-child th {\n",
       "        text-align: right;\n",
       "    }\n",
       "\n",
       "    .dataframe thead th {\n",
       "        text-align: left;\n",
       "    }\n",
       "\n",
       "    .dataframe tbody tr th {\n",
       "        vertical-align: top;\n",
       "    }\n",
       "</style>\n",
       "<table border=\"1\" class=\"dataframe\">\n",
       "  <thead>\n",
       "    <tr style=\"text-align: right;\">\n",
       "      <th></th>\n",
       "      <th>Contributors</th>\n",
       "      <th>Forks</th>\n",
       "      <th>Issues</th>\n",
       "      <th>ReadmeLength</th>\n",
       "      <th>Stars</th>\n",
       "    </tr>\n",
       "  </thead>\n",
       "  <tbody>\n",
       "    <tr>\n",
       "      <th>count</th>\n",
       "      <td>100.00000</td>\n",
       "      <td>100.000000</td>\n",
       "      <td>100.000000</td>\n",
       "      <td>100.000000</td>\n",
       "      <td>100.000000</td>\n",
       "    </tr>\n",
       "    <tr>\n",
       "      <th>mean</th>\n",
       "      <td>711.81000</td>\n",
       "      <td>9572.160000</td>\n",
       "      <td>570.600000</td>\n",
       "      <td>131.810000</td>\n",
       "      <td>43233.000000</td>\n",
       "    </tr>\n",
       "    <tr>\n",
       "      <th>std</th>\n",
       "      <td>1650.32214</td>\n",
       "      <td>8850.954365</td>\n",
       "      <td>966.466197</td>\n",
       "      <td>170.216066</td>\n",
       "      <td>30710.097885</td>\n",
       "    </tr>\n",
       "    <tr>\n",
       "      <th>min</th>\n",
       "      <td>2.00000</td>\n",
       "      <td>663.000000</td>\n",
       "      <td>0.000000</td>\n",
       "      <td>0.000000</td>\n",
       "      <td>26600.000000</td>\n",
       "    </tr>\n",
       "    <tr>\n",
       "      <th>25%</th>\n",
       "      <td>127.00000</td>\n",
       "      <td>4775.000000</td>\n",
       "      <td>31.750000</td>\n",
       "      <td>40.000000</td>\n",
       "      <td>29900.000000</td>\n",
       "    </tr>\n",
       "    <tr>\n",
       "      <th>50%</th>\n",
       "      <td>288.50000</td>\n",
       "      <td>7473.000000</td>\n",
       "      <td>174.000000</td>\n",
       "      <td>67.000000</td>\n",
       "      <td>33650.000000</td>\n",
       "    </tr>\n",
       "    <tr>\n",
       "      <th>75%</th>\n",
       "      <td>732.25000</td>\n",
       "      <td>11590.000000</td>\n",
       "      <td>535.000000</td>\n",
       "      <td>147.000000</td>\n",
       "      <td>43675.000000</td>\n",
       "    </tr>\n",
       "    <tr>\n",
       "      <th>max</th>\n",
       "      <td>15000.00000</td>\n",
       "      <td>58596.000000</td>\n",
       "      <td>4389.000000</td>\n",
       "      <td>886.000000</td>\n",
       "      <td>292000.000000</td>\n",
       "    </tr>\n",
       "  </tbody>\n",
       "</table>\n",
       "</div>"
      ],
      "text/plain": [
       "       Contributors         Forks       Issues  ReadmeLength          Stars\n",
       "count     100.00000    100.000000   100.000000    100.000000     100.000000\n",
       "mean      711.81000   9572.160000   570.600000    131.810000   43233.000000\n",
       "std      1650.32214   8850.954365   966.466197    170.216066   30710.097885\n",
       "min         2.00000    663.000000     0.000000      0.000000   26600.000000\n",
       "25%       127.00000   4775.000000    31.750000     40.000000   29900.000000\n",
       "50%       288.50000   7473.000000   174.000000     67.000000   33650.000000\n",
       "75%       732.25000  11590.000000   535.000000    147.000000   43675.000000\n",
       "max     15000.00000  58596.000000  4389.000000    886.000000  292000.000000"
      ]
     },
     "execution_count": 114,
     "metadata": {},
     "output_type": "execute_result"
    }
   ],
   "source": [
    "project_info.describe()"
   ]
  },
  {
   "cell_type": "code",
   "execution_count": 115,
   "metadata": {},
   "outputs": [
    {
     "data": {
      "text/html": [
       "<div>\n",
       "<style>\n",
       "    .dataframe thead tr:only-child th {\n",
       "        text-align: right;\n",
       "    }\n",
       "\n",
       "    .dataframe thead th {\n",
       "        text-align: left;\n",
       "    }\n",
       "\n",
       "    .dataframe tbody tr th {\n",
       "        vertical-align: top;\n",
       "    }\n",
       "</style>\n",
       "<table border=\"1\" class=\"dataframe\">\n",
       "  <thead>\n",
       "    <tr style=\"text-align: right;\">\n",
       "      <th></th>\n",
       "      <th>Contributors</th>\n",
       "      <th>Forks</th>\n",
       "      <th>Issues</th>\n",
       "      <th>ReadmeLength</th>\n",
       "      <th>Stars</th>\n",
       "    </tr>\n",
       "  </thead>\n",
       "  <tbody>\n",
       "    <tr>\n",
       "      <th>Contributors</th>\n",
       "      <td>1.000000</td>\n",
       "      <td>0.252824</td>\n",
       "      <td>0.086927</td>\n",
       "      <td>-0.136849</td>\n",
       "      <td>0.070744</td>\n",
       "    </tr>\n",
       "    <tr>\n",
       "      <th>Forks</th>\n",
       "      <td>0.252824</td>\n",
       "      <td>1.000000</td>\n",
       "      <td>0.012584</td>\n",
       "      <td>-0.122497</td>\n",
       "      <td>0.462809</td>\n",
       "    </tr>\n",
       "    <tr>\n",
       "      <th>Issues</th>\n",
       "      <td>0.086927</td>\n",
       "      <td>0.012584</td>\n",
       "      <td>1.000000</td>\n",
       "      <td>-0.135893</td>\n",
       "      <td>-0.054951</td>\n",
       "    </tr>\n",
       "    <tr>\n",
       "      <th>ReadmeLength</th>\n",
       "      <td>-0.136849</td>\n",
       "      <td>-0.122497</td>\n",
       "      <td>-0.135893</td>\n",
       "      <td>1.000000</td>\n",
       "      <td>-0.044612</td>\n",
       "    </tr>\n",
       "    <tr>\n",
       "      <th>Stars</th>\n",
       "      <td>0.070744</td>\n",
       "      <td>0.462809</td>\n",
       "      <td>-0.054951</td>\n",
       "      <td>-0.044612</td>\n",
       "      <td>1.000000</td>\n",
       "    </tr>\n",
       "  </tbody>\n",
       "</table>\n",
       "</div>"
      ],
      "text/plain": [
       "              Contributors     Forks    Issues  ReadmeLength     Stars\n",
       "Contributors      1.000000  0.252824  0.086927     -0.136849  0.070744\n",
       "Forks             0.252824  1.000000  0.012584     -0.122497  0.462809\n",
       "Issues            0.086927  0.012584  1.000000     -0.135893 -0.054951\n",
       "ReadmeLength     -0.136849 -0.122497 -0.135893      1.000000 -0.044612\n",
       "Stars             0.070744  0.462809 -0.054951     -0.044612  1.000000"
      ]
     },
     "execution_count": 115,
     "metadata": {},
     "output_type": "execute_result"
    }
   ],
   "source": [
    "project_info.corr()"
   ]
  },
  {
   "cell_type": "code",
   "execution_count": 123,
   "metadata": {
    "scrolled": true
   },
   "outputs": [
    {
     "data": {
      "image/png": "[encoded data removed]",
      "text/plain": [
       "<matplotlib.figure.Figure at 0x21fc2914320>"
      ]
     },
     "metadata": {},
     "output_type": "display_data"
    }
   ],
   "source": [
    "import matplotlib.pyplot as py\n",
    "from pylab import *\n",
    "Data= project_info.corr()\n",
    "\n",
    "plt.style.use('default')\n",
    "heatmap = plt.pcolor(Data, cmap=plt.cm.Reds, vmin=-1 , vmax=1)\n",
    "plt.colorbar(heatmap)\n",
    "plt.legend\n",
    "\n",
    "xticks( arange(1,6),('Contributors','Forks','Issues','ReadmeLength','Stars'),fontsize=6, rotation=90);\n",
    "yticks( arange(1,6),('Contributors','Forks','Issues','ReadmeLength','Stars'),fontsize=6 );"
   ]
  },
  {
   "cell_type": "code",
   "execution_count": 124,
   "metadata": {},
   "outputs": [
    {
     "data": {
      "image/png": "[encoded data removed]",
      "text/plain": [
       "<matplotlib.figure.Figure at 0x21fc1ec2b70>"
      ]
     },
     "metadata": {},
     "output_type": "display_data"
    }
   ],
   "source": [
    "pd.plotting.scatter_matrix(project_info[['Contributors','Forks','Issues','ReadmeLength','Stars']], figsize=(9, 9), diagonal='kde');"
   ]
  },
  {
   "cell_type": "markdown",
   "metadata": {},
   "source": [
    "**Interpretation:** The Highest correlation is between number of stars and forks, which tells us they are closely related compared to others, althoigh the correlation is not very significant. The mean amount of contributors is 711, the highest amount of stars is 292k which is for freeCodeCamp/freeCodeCamp, which tells us that it is the most popular repository amongst all. \n",
    "\n",
    "Looking at the scatter plot , there is no significant relation between any two values."
   ]
  },
  {
   "cell_type": "markdown",
   "metadata": {},
   "source": [
    "### Linear regression and Model Building\n",
    "\n",
    "1. linear regression to try to predict the number of Stars based on Forks, Contributors, Issues, and Readme Length.\n",
    "+ Developing another model which is better. . "
   ]
  },
  {
   "cell_type": "code",
   "execution_count": 154,
   "metadata": {},
   "outputs": [
    {
     "data": {
      "text/html": [
       "<table class=\"simpletable\">\n",
       "<caption>OLS Regression Results</caption>\n",
       "<tr>\n",
       "  <th>Dep. Variable:</th>          <td>Stars</td>      <th>  R-squared:         </th> <td>   0.220</td>\n",
       "</tr>\n",
       "<tr>\n",
       "  <th>Model:</th>                   <td>OLS</td>       <th>  Adj. R-squared:    </th> <td>   0.187</td>\n",
       "</tr>\n",
       "<tr>\n",
       "  <th>Method:</th>             <td>Least Squares</td>  <th>  F-statistic:       </th> <td>   6.687</td>\n",
       "</tr>\n",
       "<tr>\n",
       "  <th>Date:</th>             <td>Sun, 25 Feb 2018</td> <th>  Prob (F-statistic):</th> <td>8.72e-05</td>\n",
       "</tr>\n",
       "<tr>\n",
       "  <th>Time:</th>                 <td>08:00:50</td>     <th>  Log-Likelihood:    </th> <td> -1162.2</td>\n",
       "</tr>\n",
       "<tr>\n",
       "  <th>No. Observations:</th>      <td>   100</td>      <th>  AIC:               </th> <td>   2334.</td>\n",
       "</tr>\n",
       "<tr>\n",
       "  <th>Df Residuals:</th>          <td>    95</td>      <th>  BIC:               </th> <td>   2347.</td>\n",
       "</tr>\n",
       "<tr>\n",
       "  <th>Df Model:</th>              <td>     4</td>      <th>                     </th>     <td> </td>   \n",
       "</tr>\n",
       "<tr>\n",
       "  <th>Covariance Type:</th>      <td>nonrobust</td>    <th>                     </th>     <td> </td>   \n",
       "</tr>\n",
       "</table>\n",
       "<table class=\"simpletable\">\n",
       "<tr>\n",
       "        <td></td>          <th>coef</th>     <th>std err</th>      <th>t</th>      <th>P>|t|</th>  <th>[0.025</th>    <th>0.975]</th>  \n",
       "</tr>\n",
       "<tr>\n",
       "  <th>Intercept</th>    <td>  2.91e+04</td> <td> 5236.973</td> <td>    5.556</td> <td> 0.000</td> <td> 1.87e+04</td> <td> 3.95e+04</td>\n",
       "</tr>\n",
       "<tr>\n",
       "  <th>Forks</th>        <td>    1.6471</td> <td>    0.326</td> <td>    5.045</td> <td> 0.000</td> <td>    0.999</td> <td>    2.295</td>\n",
       "</tr>\n",
       "<tr>\n",
       "  <th>Contributors</th> <td>   -0.8253</td> <td>    1.758</td> <td>   -0.469</td> <td> 0.640</td> <td>   -4.316</td> <td>    2.666</td>\n",
       "</tr>\n",
       "<tr>\n",
       "  <th>Issues</th>       <td>   -1.8147</td> <td>    2.914</td> <td>   -0.623</td> <td> 0.535</td> <td>   -7.601</td> <td>    3.971</td>\n",
       "</tr>\n",
       "<tr>\n",
       "  <th>ReadmeLength</th> <td>   -0.0527</td> <td>   16.712</td> <td>   -0.003</td> <td> 0.997</td> <td>  -33.230</td> <td>   33.124</td>\n",
       "</tr>\n",
       "</table>\n",
       "<table class=\"simpletable\">\n",
       "<tr>\n",
       "  <th>Omnibus:</th>       <td>180.957</td> <th>  Durbin-Watson:     </th> <td>   1.888</td> \n",
       "</tr>\n",
       "<tr>\n",
       "  <th>Prob(Omnibus):</th> <td> 0.000</td>  <th>  Jarque-Bera (JB):  </th> <td>16547.788</td>\n",
       "</tr>\n",
       "<tr>\n",
       "  <th>Skew:</th>          <td> 7.203</td>  <th>  Prob(JB):          </th> <td>    0.00</td> \n",
       "</tr>\n",
       "<tr>\n",
       "  <th>Kurtosis:</th>      <td>64.351</td>  <th>  Cond. No.          </th> <td>2.47e+04</td> \n",
       "</tr>\n",
       "</table>"
      ],
      "text/plain": [
       "<class 'statsmodels.iolib.summary.Summary'>\n",
       "\"\"\"\n",
       "                            OLS Regression Results                            \n",
       "==============================================================================\n",
       "Dep. Variable:                  Stars   R-squared:                       0.220\n",
       "Model:                            OLS   Adj. R-squared:                  0.187\n",
       "Method:                 Least Squares   F-statistic:                     6.687\n",
       "Date:                Sun, 25 Feb 2018   Prob (F-statistic):           8.72e-05\n",
       "Time:                        08:00:50   Log-Likelihood:                -1162.2\n",
       "No. Observations:                 100   AIC:                             2334.\n",
       "Df Residuals:                      95   BIC:                             2347.\n",
       "Df Model:                           4                                         \n",
       "Covariance Type:            nonrobust                                         \n",
       "================================================================================\n",
       "                   coef    std err          t      P>|t|      [0.025      0.975]\n",
       "--------------------------------------------------------------------------------\n",
       "Intercept      2.91e+04   5236.973      5.556      0.000    1.87e+04    3.95e+04\n",
       "Forks            1.6471      0.326      5.045      0.000       0.999       2.295\n",
       "Contributors    -0.8253      1.758     -0.469      0.640      -4.316       2.666\n",
       "Issues          -1.8147      2.914     -0.623      0.535      -7.601       3.971\n",
       "ReadmeLength    -0.0527     16.712     -0.003      0.997     -33.230      33.124\n",
       "==============================================================================\n",
       "Omnibus:                      180.957   Durbin-Watson:                   1.888\n",
       "Prob(Omnibus):                  0.000   Jarque-Bera (JB):            16547.788\n",
       "Skew:                           7.203   Prob(JB):                         0.00\n",
       "Kurtosis:                      64.351   Cond. No.                     2.47e+04\n",
       "==============================================================================\n",
       "\n",
       "Warnings:\n",
       "[1] Standard Errors assume that the covariance matrix of the errors is correctly specified.\n",
       "[2] The condition number is large, 2.47e+04. This might indicate that there are\n",
       "strong multicollinearity or other numerical problems.\n",
       "\"\"\""
      ]
     },
     "execution_count": 154,
     "metadata": {},
     "output_type": "execute_result"
    }
   ],
   "source": [
    "import scipy as sc\n",
    "from scipy.stats import norm\n",
    "import pandas as pd\n",
    "import statsmodels.formula.api as sm\n",
    "\n",
    "Projectinfo_Linear_ols = sm.ols(formula=\"Stars ~ Forks+Contributors+Issues+ReadmeLength\", data=project_info).fit()\n",
    "Projectinfo_Linear_ols.summary()"
   ]
  },
  {
   "cell_type": "code",
   "execution_count": 153,
   "metadata": {},
   "outputs": [
    {
     "data": {
      "text/html": [
       "<table class=\"simpletable\">\n",
       "<caption>OLS Regression Results</caption>\n",
       "<tr>\n",
       "  <th>Dep. Variable:</th>          <td>Stars</td>      <th>  R-squared:         </th> <td>   0.220</td>\n",
       "</tr>\n",
       "<tr>\n",
       "  <th>Model:</th>                   <td>OLS</td>       <th>  Adj. R-squared:    </th> <td>   0.195</td>\n",
       "</tr>\n",
       "<tr>\n",
       "  <th>Method:</th>             <td>Least Squares</td>  <th>  F-statistic:       </th> <td>   9.010</td>\n",
       "</tr>\n",
       "<tr>\n",
       "  <th>Date:</th>             <td>Sun, 25 Feb 2018</td> <th>  Prob (F-statistic):</th> <td>2.57e-05</td>\n",
       "</tr>\n",
       "<tr>\n",
       "  <th>Time:</th>                 <td>08:00:02</td>     <th>  Log-Likelihood:    </th> <td> -1162.2</td>\n",
       "</tr>\n",
       "<tr>\n",
       "  <th>No. Observations:</th>      <td>   100</td>      <th>  AIC:               </th> <td>   2332.</td>\n",
       "</tr>\n",
       "<tr>\n",
       "  <th>Df Residuals:</th>          <td>    96</td>      <th>  BIC:               </th> <td>   2343.</td>\n",
       "</tr>\n",
       "<tr>\n",
       "  <th>Df Model:</th>              <td>     3</td>      <th>                     </th>     <td> </td>   \n",
       "</tr>\n",
       "<tr>\n",
       "  <th>Covariance Type:</th>      <td>nonrobust</td>    <th>                     </th>     <td> </td>   \n",
       "</tr>\n",
       "</table>\n",
       "<table class=\"simpletable\">\n",
       "<tr>\n",
       "        <td></td>          <th>coef</th>     <th>std err</th>      <th>t</th>      <th>P>|t|</th>  <th>[0.025</th>    <th>0.975]</th>  \n",
       "</tr>\n",
       "<tr>\n",
       "  <th>Intercept</th>    <td> 2.909e+04</td> <td> 4382.283</td> <td>    6.638</td> <td> 0.000</td> <td> 2.04e+04</td> <td> 3.78e+04</td>\n",
       "</tr>\n",
       "<tr>\n",
       "  <th>Forks</th>        <td>    1.6472</td> <td>    0.323</td> <td>    5.094</td> <td> 0.000</td> <td>    1.005</td> <td>    2.289</td>\n",
       "</tr>\n",
       "<tr>\n",
       "  <th>Contributors</th> <td>   -0.8247</td> <td>    1.741</td> <td>   -0.474</td> <td> 0.637</td> <td>   -4.280</td> <td>    2.630</td>\n",
       "</tr>\n",
       "<tr>\n",
       "  <th>Issues</th>       <td>   -1.8135</td> <td>    2.876</td> <td>   -0.631</td> <td> 0.530</td> <td>   -7.522</td> <td>    3.895</td>\n",
       "</tr>\n",
       "</table>\n",
       "<table class=\"simpletable\">\n",
       "<tr>\n",
       "  <th>Omnibus:</th>       <td>180.962</td> <th>  Durbin-Watson:     </th> <td>   1.888</td> \n",
       "</tr>\n",
       "<tr>\n",
       "  <th>Prob(Omnibus):</th> <td> 0.000</td>  <th>  Jarque-Bera (JB):  </th> <td>16549.740</td>\n",
       "</tr>\n",
       "<tr>\n",
       "  <th>Skew:</th>          <td> 7.203</td>  <th>  Prob(JB):          </th> <td>    0.00</td> \n",
       "</tr>\n",
       "<tr>\n",
       "  <th>Kurtosis:</th>      <td>64.355</td>  <th>  Cond. No.          </th> <td>2.07e+04</td> \n",
       "</tr>\n",
       "</table>"
      ],
      "text/plain": [
       "<class 'statsmodels.iolib.summary.Summary'>\n",
       "\"\"\"\n",
       "                            OLS Regression Results                            \n",
       "==============================================================================\n",
       "Dep. Variable:                  Stars   R-squared:                       0.220\n",
       "Model:                            OLS   Adj. R-squared:                  0.195\n",
       "Method:                 Least Squares   F-statistic:                     9.010\n",
       "Date:                Sun, 25 Feb 2018   Prob (F-statistic):           2.57e-05\n",
       "Time:                        08:00:02   Log-Likelihood:                -1162.2\n",
       "No. Observations:                 100   AIC:                             2332.\n",
       "Df Residuals:                      96   BIC:                             2343.\n",
       "Df Model:                           3                                         \n",
       "Covariance Type:            nonrobust                                         \n",
       "================================================================================\n",
       "                   coef    std err          t      P>|t|      [0.025      0.975]\n",
       "--------------------------------------------------------------------------------\n",
       "Intercept     2.909e+04   4382.283      6.638      0.000    2.04e+04    3.78e+04\n",
       "Forks            1.6472      0.323      5.094      0.000       1.005       2.289\n",
       "Contributors    -0.8247      1.741     -0.474      0.637      -4.280       2.630\n",
       "Issues          -1.8135      2.876     -0.631      0.530      -7.522       3.895\n",
       "==============================================================================\n",
       "Omnibus:                      180.962   Durbin-Watson:                   1.888\n",
       "Prob(Omnibus):                  0.000   Jarque-Bera (JB):            16549.740\n",
       "Skew:                           7.203   Prob(JB):                         0.00\n",
       "Kurtosis:                      64.355   Cond. No.                     2.07e+04\n",
       "==============================================================================\n",
       "\n",
       "Warnings:\n",
       "[1] Standard Errors assume that the covariance matrix of the errors is correctly specified.\n",
       "[2] The condition number is large, 2.07e+04. This might indicate that there are\n",
       "strong multicollinearity or other numerical problems.\n",
       "\"\"\""
      ]
     },
     "execution_count": 153,
     "metadata": {},
     "output_type": "execute_result"
    }
   ],
   "source": [
    "Projectinfo_Linear_ols1 = sm.ols(formula=\"Stars ~ Forks+Contributors+Issues\", data=project_info).fit()\n",
    "Projectinfo_Linear_ols1.summary()"
   ]
  },
  {
   "cell_type": "raw",
   "metadata": {},
   "source": [
    "**Interpretation:** \n",
    "The R-square values for linear regression model is very low , therefore the model is not very good. The F-statistic p value is small too, the pvalues of contributors, issues and ReadmeLength are large which tell us they are not good predictors for Stars of a repository in this model. Only 22% variablilty is explained by the model which is very less. For every 16 forks 10 star are increased for a repository.\n",
    "\n",
    "for the second model , the Adjusted Rsqaure is little immproved, also the p values are slightly decreased. Dropping the Readmelength has mildly improved the model, although Fork stays the best predictor to predict the stars for a repository."
   ]
  }
 ],
 "metadata": {
  "kernelspec": {
   "display_name": "Python 3",
   "language": "python",
   "name": "python3"
  },
  "language_info": {
   "codemirror_mode": {
    "name": "ipython",
    "version": 3
   },
   "file_extension": ".py",
   "mimetype": "text/x-python",
   "name": "python",
   "nbconvert_exporter": "python",
   "pygments_lexer": "ipython3",
   "version": "3.6.3"
  }
 },
 "nbformat": 4,
 "nbformat_minor": 2
}
