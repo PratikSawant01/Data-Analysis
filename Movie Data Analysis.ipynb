{
 "cells": [
  {
   "cell_type": "markdown",
   "metadata": {},
   "source": [
    "# Data Analysis of Movies Data Set\n",
    "\n",
    "In this notebook I have analyzed movies dataset. Initially with some basic analysis using vanilla Python, then we'll move on to doing more advanced analysis with [Pandas](http://pandas.pydata.org/pandas-docs/stable). "
   ]
  },
  {
   "cell_type": "markdown",
   "metadata": {},
   "source": [
    "## Analyzing Data The Hard Way"
   ]
  },
  {
   "cell_type": "markdown",
   "metadata": {},
   "source": [
    "In this part we'll do some manual analysis of a movies dataset. Here I have Parsed the file [movies.csv](movies.csv) using the [csv library](https://docs.python.org/3/library/csv.html)."
   ]
  },
  {
   "cell_type": "code",
   "execution_count": 8,
   "metadata": {},
   "outputs": [
    {
     "name": "stdout",
     "output_type": "stream",
     "text": [
      "Header:  ['', 'title', 'year', 'length', 'budget', 'rating', 'votes', 'r1', 'r2', 'r3', 'r4', 'r5', 'r6', 'r7', 'r8', 'r9', 'r10', 'mpaa', 'Action', 'Animation', 'Comedy', 'Drama', 'Documentary', 'Romance', 'Short']\n",
      "Row in movies:  ['6', '$pent', '2000', '91', 'NA', 4.3, 45, '4.5', '4.5', '4.5', '14.5', '14.5', '14.5', '4.5', '4.5', '14.5', '14.5', '', '0', '0', '0', '1', '0', '0', '0']\n",
      "Number of Column 25\n",
      "Number of Rows 58788\n"
     ]
    }
   ],
   "source": [
    "# import the csv library\n",
    "import csv\n",
    "# initialize the top-level array\n",
    "movies = []\n",
    "header = []\n",
    "\n",
    "with open('movies.csv') as csvfile:\n",
    "    filereader = csv.reader(csvfile, delimiter=',', quotechar='\"')\n",
    "    for row in filereader:\n",
    "        movies.append(row)\n",
    "header = movies.pop(0)\n",
    "for row in movies: \n",
    "    row[5] = float(row[5])\n",
    "    row[6] = int(row[6])\n",
    "    try:\n",
    "        row[17] = str(row[17])\n",
    "    except ValueError: \n",
    "        row[17] = None\n",
    "\n",
    "print(\"Header: \",header)\n",
    "print(\"Row in movies: \",movies[5])\n",
    "print(\"Number of Column\",len(header))\n",
    "print(\"Number of Rows\",len(movies))"
   ]
  },
  {
   "cell_type": "markdown",
   "metadata": {
    "collapsed": true
   },
   "source": [
    "### Calculate movie stats like average ratings, average rating for major movies and finding the highest rated major movie\n",
    "\n",
    "Here I have calculated some statistics about movies. "
   ]
  },
  {
   "cell_type": "code",
   "execution_count": 9,
   "metadata": {},
   "outputs": [
    {
     "name": "stdout",
     "output_type": "stream",
     "text": [
      "Average rating:  5.932850241545932 , Number of movies: 58788\n",
      "Average rating of movies with more than 500 votes: 6.370579126664578 Number of major movies:  6458\n",
      "Highest rating:  9.1 Title:  Godfather, The\n"
     ]
    }
   ],
   "source": [
    "# your code goes here\n",
    "#Task 1.2.1 Calcualte average ratings\n",
    "#Task 1.2.2: Calculate average rating for major movies\n",
    "#Task 1.2.3: Find the highest rated major movie\n",
    "summ=0\n",
    "count=0\n",
    "summ1=0\n",
    "count1=0\n",
    "count2=0\n",
    "rating=0\n",
    "for row in movies:\n",
    "    summ=summ+row[5]\n",
    "    count=count+1\n",
    "    #major movies\n",
    "    if row[6]>500:\n",
    "        summ1=summ1+row[5]\n",
    "        count1=count1+1\n",
    "        if row[5]>rating:\n",
    "            rating=row[5]\n",
    "            count2=count-1\n",
    "    else:\n",
    "        continue\n",
    "\n",
    "print(\"Average rating: \",summ/count,\", \"+\"Number of movies: \"+str(count))\n",
    "print(\"Average rating of movies with more than 500 votes:\",summ1/count1,\"Number of major movies: \",count1)\n",
    "print(\"Highest rating: \",rating,\"Title: \",movies[count2][1])"
   ]
  },
  {
   "cell_type": "markdown",
   "metadata": {},
   "source": [
    "**Interpretation**: \n",
    "1. Major movies are just 10% of all the movies\n",
    "                        \n",
    "2. If we see the average rating, the Major movies have a significantly                                   higher rating than average movies, which tells us they are usually better."
   ]
  },
  {
   "cell_type": "markdown",
   "metadata": {},
   "source": [
    "## Using Pandas"
   ]
  },
  {
   "cell_type": "markdown",
   "metadata": {
    "collapsed": true
   },
   "source": [
    "In this part we will use the [Pandas library](http://pandas.pydata.org/pandas-docs/stable) for our analysis."
   ]
  },
  {
   "cell_type": "markdown",
   "metadata": {
    "collapsed": true
   },
   "source": [
    "###  Loading data\n",
    "Read in the data again. This time by creating a [Pandas DataFrame](http://pandas.pydata.org/pandas-docs/stable/generated/pandas.DataFrame.html). "
   ]
  },
  {
   "cell_type": "code",
   "execution_count": 135,
   "metadata": {},
   "outputs": [
    {
     "data": {
      "text/html": [
       "<div>\n",
       "<style>\n",
       "    .dataframe thead tr:only-child th {\n",
       "        text-align: right;\n",
       "    }\n",
       "\n",
       "    .dataframe thead th {\n",
       "        text-align: left;\n",
       "    }\n",
       "\n",
       "    .dataframe tbody tr th {\n",
       "        vertical-align: top;\n",
       "    }\n",
       "</style>\n",
       "<table border=\"1\" class=\"dataframe\">\n",
       "  <thead>\n",
       "    <tr style=\"text-align: right;\">\n",
       "      <th></th>\n",
       "      <th>Unnamed: 0</th>\n",
       "      <th>title</th>\n",
       "      <th>year</th>\n",
       "      <th>length</th>\n",
       "      <th>budget</th>\n",
       "      <th>rating</th>\n",
       "      <th>votes</th>\n",
       "      <th>r1</th>\n",
       "      <th>r2</th>\n",
       "      <th>r3</th>\n",
       "      <th>...</th>\n",
       "      <th>r9</th>\n",
       "      <th>r10</th>\n",
       "      <th>mpaa</th>\n",
       "      <th>Action</th>\n",
       "      <th>Animation</th>\n",
       "      <th>Comedy</th>\n",
       "      <th>Drama</th>\n",
       "      <th>Documentary</th>\n",
       "      <th>Romance</th>\n",
       "      <th>Short</th>\n",
       "    </tr>\n",
       "  </thead>\n",
       "  <tbody>\n",
       "    <tr>\n",
       "      <th>0</th>\n",
       "      <td>1</td>\n",
       "      <td>$</td>\n",
       "      <td>1971</td>\n",
       "      <td>121</td>\n",
       "      <td>NaN</td>\n",
       "      <td>6.4</td>\n",
       "      <td>348</td>\n",
       "      <td>4.5</td>\n",
       "      <td>4.5</td>\n",
       "      <td>4.5</td>\n",
       "      <td>...</td>\n",
       "      <td>4.5</td>\n",
       "      <td>4.5</td>\n",
       "      <td>NaN</td>\n",
       "      <td>0</td>\n",
       "      <td>0</td>\n",
       "      <td>1</td>\n",
       "      <td>1</td>\n",
       "      <td>0</td>\n",
       "      <td>0</td>\n",
       "      <td>0</td>\n",
       "    </tr>\n",
       "    <tr>\n",
       "      <th>1</th>\n",
       "      <td>2</td>\n",
       "      <td>$1000 a Touchdown</td>\n",
       "      <td>1939</td>\n",
       "      <td>71</td>\n",
       "      <td>NaN</td>\n",
       "      <td>6.0</td>\n",
       "      <td>20</td>\n",
       "      <td>0.0</td>\n",
       "      <td>14.5</td>\n",
       "      <td>4.5</td>\n",
       "      <td>...</td>\n",
       "      <td>4.5</td>\n",
       "      <td>14.5</td>\n",
       "      <td>NaN</td>\n",
       "      <td>0</td>\n",
       "      <td>0</td>\n",
       "      <td>1</td>\n",
       "      <td>0</td>\n",
       "      <td>0</td>\n",
       "      <td>0</td>\n",
       "      <td>0</td>\n",
       "    </tr>\n",
       "    <tr>\n",
       "      <th>2</th>\n",
       "      <td>3</td>\n",
       "      <td>$21 a Day Once a Month</td>\n",
       "      <td>1941</td>\n",
       "      <td>7</td>\n",
       "      <td>NaN</td>\n",
       "      <td>8.2</td>\n",
       "      <td>5</td>\n",
       "      <td>0.0</td>\n",
       "      <td>0.0</td>\n",
       "      <td>0.0</td>\n",
       "      <td>...</td>\n",
       "      <td>24.5</td>\n",
       "      <td>24.5</td>\n",
       "      <td>NaN</td>\n",
       "      <td>0</td>\n",
       "      <td>1</td>\n",
       "      <td>0</td>\n",
       "      <td>0</td>\n",
       "      <td>0</td>\n",
       "      <td>0</td>\n",
       "      <td>1</td>\n",
       "    </tr>\n",
       "    <tr>\n",
       "      <th>3</th>\n",
       "      <td>4</td>\n",
       "      <td>$40,000</td>\n",
       "      <td>1996</td>\n",
       "      <td>70</td>\n",
       "      <td>NaN</td>\n",
       "      <td>8.2</td>\n",
       "      <td>6</td>\n",
       "      <td>14.5</td>\n",
       "      <td>0.0</td>\n",
       "      <td>0.0</td>\n",
       "      <td>...</td>\n",
       "      <td>34.5</td>\n",
       "      <td>45.5</td>\n",
       "      <td>NaN</td>\n",
       "      <td>0</td>\n",
       "      <td>0</td>\n",
       "      <td>1</td>\n",
       "      <td>0</td>\n",
       "      <td>0</td>\n",
       "      <td>0</td>\n",
       "      <td>0</td>\n",
       "    </tr>\n",
       "    <tr>\n",
       "      <th>4</th>\n",
       "      <td>5</td>\n",
       "      <td>$50,000 Climax Show, The</td>\n",
       "      <td>1975</td>\n",
       "      <td>71</td>\n",
       "      <td>NaN</td>\n",
       "      <td>3.4</td>\n",
       "      <td>17</td>\n",
       "      <td>24.5</td>\n",
       "      <td>4.5</td>\n",
       "      <td>0.0</td>\n",
       "      <td>...</td>\n",
       "      <td>0.0</td>\n",
       "      <td>24.5</td>\n",
       "      <td>NaN</td>\n",
       "      <td>0</td>\n",
       "      <td>0</td>\n",
       "      <td>0</td>\n",
       "      <td>0</td>\n",
       "      <td>0</td>\n",
       "      <td>0</td>\n",
       "      <td>0</td>\n",
       "    </tr>\n",
       "  </tbody>\n",
       "</table>\n",
       "<p>5 rows × 25 columns</p>\n",
       "</div>"
      ],
      "text/plain": [
       "   Unnamed: 0                     title  year  length  budget  rating  votes  \\\n",
       "0           1                         $  1971     121     NaN     6.4    348   \n",
       "1           2         $1000 a Touchdown  1939      71     NaN     6.0     20   \n",
       "2           3    $21 a Day Once a Month  1941       7     NaN     8.2      5   \n",
       "3           4                   $40,000  1996      70     NaN     8.2      6   \n",
       "4           5  $50,000 Climax Show, The  1975      71     NaN     3.4     17   \n",
       "\n",
       "     r1    r2   r3  ...      r9   r10  mpaa  Action  Animation  Comedy  Drama  \\\n",
       "0   4.5   4.5  4.5  ...     4.5   4.5   NaN       0          0       1      1   \n",
       "1   0.0  14.5  4.5  ...     4.5  14.5   NaN       0          0       1      0   \n",
       "2   0.0   0.0  0.0  ...    24.5  24.5   NaN       0          1       0      0   \n",
       "3  14.5   0.0  0.0  ...    34.5  45.5   NaN       0          0       1      0   \n",
       "4  24.5   4.5  0.0  ...     0.0  24.5   NaN       0          0       0      0   \n",
       "\n",
       "  Documentary  Romance  Short  \n",
       "0           0        0      0  \n",
       "1           0        0      0  \n",
       "2           0        0      1  \n",
       "3           0        0      0  \n",
       "4           0        0      0  \n",
       "\n",
       "[5 rows x 25 columns]"
      ]
     },
     "execution_count": 135,
     "metadata": {},
     "output_type": "execute_result"
    }
   ],
   "source": [
    "# import pansas and numpy\n",
    "import pandas as pd\n",
    "import numpy as ny\n",
    "# your code goes here\n",
    "movies_pd=pd.read_csv(\"movies.csv\")\n",
    "movies_pd.head()"
   ]
  },
  {
   "cell_type": "code",
   "execution_count": 4,
   "metadata": {
    "scrolled": true
   },
   "outputs": [
    {
     "data": {
      "text/plain": [
       "Unnamed: 0       int64\n",
       "title           object\n",
       "year             int64\n",
       "length           int64\n",
       "budget         float64\n",
       "rating         float64\n",
       "votes            int64\n",
       "r1             float64\n",
       "r2             float64\n",
       "r3             float64\n",
       "r4             float64\n",
       "r5             float64\n",
       "r6             float64\n",
       "r7             float64\n",
       "r8             float64\n",
       "r9             float64\n",
       "r10            float64\n",
       "mpaa            object\n",
       "Action           int64\n",
       "Animation        int64\n",
       "Comedy           int64\n",
       "Drama            int64\n",
       "Documentary      int64\n",
       "Romance          int64\n",
       "Short            int64\n",
       "dtype: object"
      ]
     },
     "execution_count": 4,
     "metadata": {},
     "output_type": "execute_result"
    }
   ],
   "source": [
    "# print data types\n",
    "movies_pd.dtypes"
   ]
  },
  {
   "cell_type": "markdown",
   "metadata": {},
   "source": [
    "**Interpretation**: \n",
    "1. I loaded 58788 rows and 25 columns\n",
    "2. The columns have 3 types of datatype: int64, object and float64\n",
    "3. No, we dont have to do any manual data type conversions"
   ]
  },
  {
   "cell_type": "markdown",
   "metadata": {},
   "source": [
    "###  Calculate the average rating\n",
    "Compute the average rating for all movies using the library."
   ]
  },
  {
   "cell_type": "code",
   "execution_count": 5,
   "metadata": {},
   "outputs": [
    {
     "name": "stdout",
     "output_type": "stream",
     "text": [
      "Average rating:  5.932850241545932\n"
     ]
    }
   ],
   "source": [
    "# your code goes here\n",
    "print(\"Average rating: \",movies_pd[\"rating\"].mean())"
   ]
  },
  {
   "cell_type": "markdown",
   "metadata": {},
   "source": [
    "### Comparing the runtime\n",
    "\n",
    "We measure runtime of the mean calculation using [Pandas](http://pandas.pydata.org/pandas-docs/stable) and compare it to the computation time for calculating the mean using a for loop to see how librarires astronomically decrease the computaional time."
   ]
  },
  {
   "cell_type": "code",
   "execution_count": 136,
   "metadata": {},
   "outputs": [
    {
     "name": "stdout",
     "output_type": "stream",
     "text": [
      "Average in pandas 5.932850241545932\n",
      "Average in loop 5.932850241545932\n",
      "time using own code: 12.369620144709188\n",
      "time using Pandas: 0.004248281720720115\n",
      "difference factor: 12.365371862988468\n"
     ]
    }
   ],
   "source": [
    "import time\n",
    "# your code goes here\n",
    "summ=0\n",
    "count=0\n",
    "\n",
    "t1=time.clock()\n",
    "print(\"Average in pandas\",movies_pd[\"rating\"].mean())\n",
    "t2=time.clock()\n",
    "\n",
    "t3=time.clock()\n",
    "for index, row in movies_pd.iterrows():\n",
    "    summ=summ+row['rating']\n",
    "    count=count+1\n",
    "print(\"Average in loop\",summ/count)    \n",
    "t4=time.clock()\n",
    "\n",
    "print(\"time using own code:\",t4-t3)\n",
    "print(\"time using Pandas:\",t2-t1)\n",
    "print(\"difference factor:\",(t4-t3)-(t2-t1))"
   ]
  },
  {
   "cell_type": "markdown",
   "metadata": {},
   "source": [
    "###  Filtering out , Calculate the average rating for major movies, find highest rated major movies,Filter out rows and count specific features\n",
    "\n",
    "The whole movies dataset has about 60k entries. Using pandas I filtered out the dataframe to contain only the major movies with more than 500 votes. and calculated various statistics.\n",
    "\n",
    "From the major movies I got the count for  \n",
    " * comedies.\n",
    " * dramas\n",
    " * and both, comedies and dramas"
   ]
  },
  {
   "cell_type": "code",
   "execution_count": 11,
   "metadata": {},
   "outputs": [
    {
     "name": "stdout",
     "output_type": "stream",
     "text": [
      "6458 movies have more than 500 votes.\n"
     ]
    }
   ],
   "source": [
    "# your code goes here\n",
    "No=0\n",
    "mask=movies_pd[\"votes\"]>500\n",
    "major_movies=movies_pd[mask]\n",
    "No=len(major_movies.axes[0])\n",
    "print(No,\"movies have more than 500 votes.\")"
   ]
  },
  {
   "cell_type": "code",
   "execution_count": 12,
   "metadata": {},
   "outputs": [
    {
     "name": "stdout",
     "output_type": "stream",
     "text": [
      "Average rating of movies with more than 500 votes:  6.370579126664578\n"
     ]
    }
   ],
   "source": [
    "# your code goes here\n",
    "print(\"Average rating of movies with more than 500 votes: \",major_movies[\"rating\"].mean())"
   ]
  },
  {
   "cell_type": "code",
   "execution_count": 13,
   "metadata": {
    "scrolled": true
   },
   "outputs": [
    {
     "name": "stdout",
     "output_type": "stream",
     "text": [
      "Highest rated movie:  Godfather, The , rating 9.1\n"
     ]
    }
   ],
   "source": [
    "# your code goes here\n",
    "k=major_movies[\"rating\"].idxmax()\n",
    "print(\"Highest rated movie: \",major_movies.loc[k][1],\",\",\"rating\",major_movies.loc[k][5])\n"
   ]
  },
  {
   "cell_type": "code",
   "execution_count": 23,
   "metadata": {},
   "outputs": [
    {
     "name": "stdout",
     "output_type": "stream",
     "text": [
      "2553 major movies are comedies.\n",
      "3370 major movies are dramas.\n",
      "814 major movies are both, comedies and dramas\n"
     ]
    }
   ],
   "source": [
    "# your code goes here\n",
    "a=0\n",
    "b=0\n",
    "c=0\n",
    "mask1=major_movies[\"Comedy\"]==1\n",
    "mask2=major_movies[\"Drama\"]==1\n",
    "major_movies.describe()\n",
    "major_movies_comedies=major_movies[mask1]\n",
    "major_movies_drama=major_movies[mask2]\n",
    "major_movies_cd=major_movies[(major_movies['Comedy']==1)&(major_movies['Drama']==1)]\n",
    "#major_movies_cd=major_movies[mask3]\n",
    "\n",
    "a=len(major_movies_comedies.axes[0])\n",
    "b=len(major_movies_drama.axes[0])\n",
    "c=len(major_movies_cd.axes[0])\n",
    "print(a,\"major movies are comedies.\")\n",
    "print(b,\"major movies are dramas.\")\n",
    "print(c,\"major movies are both, comedies and dramas\")"
   ]
  },
  {
   "cell_type": "markdown",
   "metadata": {},
   "source": [
    "### Compare ratings of different categories\n",
    "\n",
    "I compared the ratings for comedies and dramas for major movies by computing the average rating, maximum rating, minimum rating, standard deviation, and the median for each category."
   ]
  },
  {
   "cell_type": "code",
   "execution_count": 125,
   "metadata": {
    "scrolled": true
   },
   "outputs": [
    {
     "name": "stdout",
     "output_type": "stream",
     "text": [
      "Comedy Description\n",
      "count    6458.000000\n",
      "mean        6.370579\n",
      "std         1.220332\n",
      "min         1.300000\n",
      "25%         5.700000\n",
      "50%         6.600000\n",
      "75%         7.300000\n",
      "max         9.100000\n",
      "Name: rating, dtype: float64 \n",
      "\n",
      "Drama Description\n",
      "count    3370.000000\n",
      "mean        6.749614\n",
      "std         0.990969\n",
      "min         1.300000\n",
      "25%         6.200000\n",
      "50%         6.900000\n",
      "75%         7.500000\n",
      "max         9.100000\n",
      "Name: rating, dtype: float64\n"
     ]
    }
   ],
   "source": [
    "# your code goes here\n",
    "print(\"Comedy Description\")\n",
    "k1=major_movies_comedies[\"rating\"].describe()\n",
    "print(k1,\"\\n\")\n",
    "print(\"Drama Description\")\n",
    "k2=major_movies_drama[\"rating\"].describe()\n",
    "print(k2)"
   ]
  },
  {
   "cell_type": "markdown",
   "metadata": {},
   "source": [
    "**Interpretation**: The mean ratings are higher for Drama movies, also the ratings vary less for Drama movies from the mean. The max and min ratings for both are same 9.1 and 1.3 respectively. \n",
    "Drama has a median rating of 6.9 and Comedy 6.6 this tells us half of the Drama movies have higher rating than comedy. Bottom line, among the major movies , Drama have higher ratings than Comedy."
   ]
  },
  {
   "cell_type": "markdown",
   "metadata": {},
   "source": [
    "### Showing Movies per year using line charts"
   ]
  },
  {
   "cell_type": "code",
   "execution_count": 89,
   "metadata": {},
   "outputs": [
    {
     "data": {
      "text/html": [
       "<div>\n",
       "<style>\n",
       "    .dataframe thead tr:only-child th {\n",
       "        text-align: right;\n",
       "    }\n",
       "\n",
       "    .dataframe thead th {\n",
       "        text-align: left;\n",
       "    }\n",
       "\n",
       "    .dataframe tbody tr th {\n",
       "        vertical-align: top;\n",
       "    }\n",
       "</style>\n",
       "<table border=\"1\" class=\"dataframe\">\n",
       "  <thead>\n",
       "    <tr style=\"text-align: right;\">\n",
       "      <th></th>\n",
       "      <th>number of movies</th>\n",
       "    </tr>\n",
       "    <tr>\n",
       "      <th>year</th>\n",
       "      <th></th>\n",
       "    </tr>\n",
       "  </thead>\n",
       "  <tbody>\n",
       "    <tr>\n",
       "      <th>1902</th>\n",
       "      <td>1</td>\n",
       "    </tr>\n",
       "    <tr>\n",
       "      <th>1903</th>\n",
       "      <td>1</td>\n",
       "    </tr>\n",
       "    <tr>\n",
       "      <th>1915</th>\n",
       "      <td>1</td>\n",
       "    </tr>\n",
       "    <tr>\n",
       "      <th>1916</th>\n",
       "      <td>1</td>\n",
       "    </tr>\n",
       "    <tr>\n",
       "      <th>1917</th>\n",
       "      <td>1</td>\n",
       "    </tr>\n",
       "    <tr>\n",
       "      <th>1919</th>\n",
       "      <td>1</td>\n",
       "    </tr>\n",
       "    <tr>\n",
       "      <th>1920</th>\n",
       "      <td>1</td>\n",
       "    </tr>\n",
       "    <tr>\n",
       "      <th>1921</th>\n",
       "      <td>1</td>\n",
       "    </tr>\n",
       "    <tr>\n",
       "      <th>1922</th>\n",
       "      <td>3</td>\n",
       "    </tr>\n",
       "    <tr>\n",
       "      <th>1923</th>\n",
       "      <td>2</td>\n",
       "    </tr>\n",
       "    <tr>\n",
       "      <th>1924</th>\n",
       "      <td>4</td>\n",
       "    </tr>\n",
       "    <tr>\n",
       "      <th>1925</th>\n",
       "      <td>5</td>\n",
       "    </tr>\n",
       "    <tr>\n",
       "      <th>1926</th>\n",
       "      <td>1</td>\n",
       "    </tr>\n",
       "    <tr>\n",
       "      <th>1927</th>\n",
       "      <td>8</td>\n",
       "    </tr>\n",
       "    <tr>\n",
       "      <th>1928</th>\n",
       "      <td>5</td>\n",
       "    </tr>\n",
       "    <tr>\n",
       "      <th>1929</th>\n",
       "      <td>4</td>\n",
       "    </tr>\n",
       "    <tr>\n",
       "      <th>1930</th>\n",
       "      <td>5</td>\n",
       "    </tr>\n",
       "    <tr>\n",
       "      <th>1931</th>\n",
       "      <td>7</td>\n",
       "    </tr>\n",
       "    <tr>\n",
       "      <th>1932</th>\n",
       "      <td>14</td>\n",
       "    </tr>\n",
       "    <tr>\n",
       "      <th>1933</th>\n",
       "      <td>11</td>\n",
       "    </tr>\n",
       "    <tr>\n",
       "      <th>1934</th>\n",
       "      <td>12</td>\n",
       "    </tr>\n",
       "    <tr>\n",
       "      <th>1935</th>\n",
       "      <td>9</td>\n",
       "    </tr>\n",
       "    <tr>\n",
       "      <th>1936</th>\n",
       "      <td>17</td>\n",
       "    </tr>\n",
       "    <tr>\n",
       "      <th>1937</th>\n",
       "      <td>15</td>\n",
       "    </tr>\n",
       "    <tr>\n",
       "      <th>1938</th>\n",
       "      <td>12</td>\n",
       "    </tr>\n",
       "    <tr>\n",
       "      <th>1939</th>\n",
       "      <td>26</td>\n",
       "    </tr>\n",
       "    <tr>\n",
       "      <th>1940</th>\n",
       "      <td>19</td>\n",
       "    </tr>\n",
       "    <tr>\n",
       "      <th>1941</th>\n",
       "      <td>20</td>\n",
       "    </tr>\n",
       "    <tr>\n",
       "      <th>1942</th>\n",
       "      <td>20</td>\n",
       "    </tr>\n",
       "    <tr>\n",
       "      <th>1943</th>\n",
       "      <td>13</td>\n",
       "    </tr>\n",
       "    <tr>\n",
       "      <th>...</th>\n",
       "      <td>...</td>\n",
       "    </tr>\n",
       "    <tr>\n",
       "      <th>1976</th>\n",
       "      <td>51</td>\n",
       "    </tr>\n",
       "    <tr>\n",
       "      <th>1977</th>\n",
       "      <td>60</td>\n",
       "    </tr>\n",
       "    <tr>\n",
       "      <th>1978</th>\n",
       "      <td>65</td>\n",
       "    </tr>\n",
       "    <tr>\n",
       "      <th>1979</th>\n",
       "      <td>71</td>\n",
       "    </tr>\n",
       "    <tr>\n",
       "      <th>1980</th>\n",
       "      <td>84</td>\n",
       "    </tr>\n",
       "    <tr>\n",
       "      <th>1981</th>\n",
       "      <td>92</td>\n",
       "    </tr>\n",
       "    <tr>\n",
       "      <th>1982</th>\n",
       "      <td>83</td>\n",
       "    </tr>\n",
       "    <tr>\n",
       "      <th>1983</th>\n",
       "      <td>95</td>\n",
       "    </tr>\n",
       "    <tr>\n",
       "      <th>1984</th>\n",
       "      <td>105</td>\n",
       "    </tr>\n",
       "    <tr>\n",
       "      <th>1985</th>\n",
       "      <td>129</td>\n",
       "    </tr>\n",
       "    <tr>\n",
       "      <th>1986</th>\n",
       "      <td>131</td>\n",
       "    </tr>\n",
       "    <tr>\n",
       "      <th>1987</th>\n",
       "      <td>146</td>\n",
       "    </tr>\n",
       "    <tr>\n",
       "      <th>1988</th>\n",
       "      <td>162</td>\n",
       "    </tr>\n",
       "    <tr>\n",
       "      <th>1989</th>\n",
       "      <td>147</td>\n",
       "    </tr>\n",
       "    <tr>\n",
       "      <th>1990</th>\n",
       "      <td>156</td>\n",
       "    </tr>\n",
       "    <tr>\n",
       "      <th>1991</th>\n",
       "      <td>157</td>\n",
       "    </tr>\n",
       "    <tr>\n",
       "      <th>1992</th>\n",
       "      <td>172</td>\n",
       "    </tr>\n",
       "    <tr>\n",
       "      <th>1993</th>\n",
       "      <td>202</td>\n",
       "    </tr>\n",
       "    <tr>\n",
       "      <th>1994</th>\n",
       "      <td>213</td>\n",
       "    </tr>\n",
       "    <tr>\n",
       "      <th>1995</th>\n",
       "      <td>220</td>\n",
       "    </tr>\n",
       "    <tr>\n",
       "      <th>1996</th>\n",
       "      <td>266</td>\n",
       "    </tr>\n",
       "    <tr>\n",
       "      <th>1997</th>\n",
       "      <td>272</td>\n",
       "    </tr>\n",
       "    <tr>\n",
       "      <th>1998</th>\n",
       "      <td>275</td>\n",
       "    </tr>\n",
       "    <tr>\n",
       "      <th>1999</th>\n",
       "      <td>281</td>\n",
       "    </tr>\n",
       "    <tr>\n",
       "      <th>2000</th>\n",
       "      <td>287</td>\n",
       "    </tr>\n",
       "    <tr>\n",
       "      <th>2001</th>\n",
       "      <td>311</td>\n",
       "    </tr>\n",
       "    <tr>\n",
       "      <th>2002</th>\n",
       "      <td>317</td>\n",
       "    </tr>\n",
       "    <tr>\n",
       "      <th>2003</th>\n",
       "      <td>285</td>\n",
       "    </tr>\n",
       "    <tr>\n",
       "      <th>2004</th>\n",
       "      <td>229</td>\n",
       "    </tr>\n",
       "    <tr>\n",
       "      <th>2005</th>\n",
       "      <td>36</td>\n",
       "    </tr>\n",
       "  </tbody>\n",
       "</table>\n",
       "<p>92 rows × 1 columns</p>\n",
       "</div>"
      ],
      "text/plain": [
       "      number of movies\n",
       "year                  \n",
       "1902                 1\n",
       "1903                 1\n",
       "1915                 1\n",
       "1916                 1\n",
       "1917                 1\n",
       "1919                 1\n",
       "1920                 1\n",
       "1921                 1\n",
       "1922                 3\n",
       "1923                 2\n",
       "1924                 4\n",
       "1925                 5\n",
       "1926                 1\n",
       "1927                 8\n",
       "1928                 5\n",
       "1929                 4\n",
       "1930                 5\n",
       "1931                 7\n",
       "1932                14\n",
       "1933                11\n",
       "1934                12\n",
       "1935                 9\n",
       "1936                17\n",
       "1937                15\n",
       "1938                12\n",
       "1939                26\n",
       "1940                19\n",
       "1941                20\n",
       "1942                20\n",
       "1943                13\n",
       "...                ...\n",
       "1976                51\n",
       "1977                60\n",
       "1978                65\n",
       "1979                71\n",
       "1980                84\n",
       "1981                92\n",
       "1982                83\n",
       "1983                95\n",
       "1984               105\n",
       "1985               129\n",
       "1986               131\n",
       "1987               146\n",
       "1988               162\n",
       "1989               147\n",
       "1990               156\n",
       "1991               157\n",
       "1992               172\n",
       "1993               202\n",
       "1994               213\n",
       "1995               220\n",
       "1996               266\n",
       "1997               272\n",
       "1998               275\n",
       "1999               281\n",
       "2000               287\n",
       "2001               311\n",
       "2002               317\n",
       "2003               285\n",
       "2004               229\n",
       "2005                36\n",
       "\n",
       "[92 rows x 1 columns]"
      ]
     },
     "execution_count": 89,
     "metadata": {},
     "output_type": "execute_result"
    }
   ],
   "source": [
    "# your code goes here\n",
    "import numpy as ny\n",
    "grouped= major_movies.groupby(\"year\")\n",
    "grouped.groups\n",
    "movies_grp=grouped.size()\n",
    "df_mov_grp=movies_grp.to_frame()\n",
    "df_mov_grp.columns=['number of movies']\n",
    "df_mov_grp"
   ]
  },
  {
   "cell_type": "code",
   "execution_count": 34,
   "metadata": {},
   "outputs": [
    {
     "data": {
      "text/plain": [
       "<matplotlib.axes._subplots.AxesSubplot at 0x1f92eab8198>"
      ]
     },
     "execution_count": 34,
     "metadata": {},
     "output_type": "execute_result"
    },
    {
     "data": {
      "image/png": "[encoded data removed]",
      "text/plain": [
       "<matplotlib.figure.Figure at 0x1f92f23a1d0>"
      ]
     },
     "metadata": {},
     "output_type": "display_data"
    }
   ],
   "source": [
    "%matplotlib inline\n",
    "# create the plot here\n",
    "movies_grp.plot(title=\"Movies Per year\")"
   ]
  },
  {
   "cell_type": "markdown",
   "metadata": {},
   "source": [
    "### Computing Yearly average "
   ]
  },
  {
   "cell_type": "code",
   "execution_count": 128,
   "metadata": {
    "scrolled": true
   },
   "outputs": [
    {
     "name": "stdout",
     "output_type": "stream",
     "text": [
      "        rating\n",
      "year          \n",
      "1902  8.200000\n",
      "1903  7.400000\n",
      "1915  7.100000\n",
      "1916  7.800000\n",
      "1917  7.900000\n",
      "1919  7.400000\n",
      "1920  8.100000\n",
      "1921  8.200000\n",
      "1922  7.933333\n",
      "1923  8.050000\n",
      "1924  8.050000\n",
      "1925  8.000000\n",
      "1926  8.400000\n",
      "1927  7.750000\n",
      "1928  8.020000\n",
      "1929  7.400000\n",
      "1930  7.520000\n",
      "1931  7.871429\n",
      "1932  7.557143\n",
      "1933  7.654545\n",
      "1934  7.541667\n",
      "1935  7.777778\n",
      "1936  7.329412\n",
      "1937  7.626667\n",
      "1938  7.733333\n",
      "1939  7.569231\n",
      "1940  7.721053\n",
      "1941  7.510000\n",
      "1942  7.635000\n",
      "1943  7.523077\n",
      "...        ...\n",
      "1976  6.554902\n",
      "1977  6.480000\n",
      "1978  6.275385\n",
      "1979  6.587324\n",
      "1980  6.228571\n",
      "1981  6.252174\n",
      "1982  6.378313\n",
      "1983  6.177895\n",
      "1984  6.096190\n",
      "1985  6.010853\n",
      "1986  5.940458\n",
      "1987  6.012329\n",
      "1988  5.981481\n",
      "1989  5.981633\n",
      "1990  5.904487\n",
      "1991  6.085350\n",
      "1992  6.141279\n",
      "1993  6.009901\n",
      "1994  5.928638\n",
      "1995  6.123182\n",
      "1996  6.022932\n",
      "1997  6.036765\n",
      "1998  6.172727\n",
      "1999  6.266904\n",
      "2000  6.266899\n",
      "2001  6.303859\n",
      "2002  6.321136\n",
      "2003  6.347719\n",
      "2004  6.303493\n",
      "2005  5.458333\n",
      "\n",
      "[92 rows x 1 columns]\n"
     ]
    },
    {
     "data": {
      "text/plain": [
       "<matplotlib.axes._subplots.AxesSubplot at 0x1f92e5e3c18>"
      ]
     },
     "execution_count": 128,
     "metadata": {},
     "output_type": "execute_result"
    },
    {
     "data": {
      "image/png": "[encoded data removed]",
      "text/plain": [
       "<matplotlib.figure.Figure at 0x1f92e573048>"
      ]
     },
     "metadata": {},
     "output_type": "display_data"
    }
   ],
   "source": [
    "# your code goes here\n",
    "%matplotlib inline\n",
    "major_yr = major_movies[[\"year\",\"rating\"]]\n",
    "group_rating= major_yr.groupby(\"year\").mean()\n",
    "x1=group_rating\n",
    "print(x1)\n",
    "group_rating.plot(title=\"Yearly average for major movies\")\n"
   ]
  },
  {
   "cell_type": "markdown",
   "metadata": {},
   "source": [
    "### Exploration and Interpretation"
   ]
  },
  {
   "cell_type": "markdown",
   "metadata": {},
   "source": [
    "\n",
    "\n",
    "Based on the plot for average rating vs year we can infer that older movies have higher rating which tells us old movies are better. Yes there is a difference between rating for all and major movies overtime as you can see in the plot below, but the rating for older movies remain better than new movies. The difference in rating can also be a result of increased number of votes in recent times.\n",
    "\n",
    "if we see the plot for total number of votes per year, in recent years the votes are predominantly higher, which also accounts for more accurate ratings. "
   ]
  },
  {
   "cell_type": "code",
   "execution_count": 129,
   "metadata": {},
   "outputs": [
    {
     "data": {
      "text/plain": [
       "<matplotlib.axes._subplots.AxesSubplot at 0x1f92e5b8c88>"
      ]
     },
     "execution_count": 129,
     "metadata": {},
     "output_type": "execute_result"
    },
    {
     "data": {
      "image/png": "[encoded data removed]",
      "text/plain": [
       "<matplotlib.figure.Figure at 0x1f92e4e5780>"
      ]
     },
     "metadata": {},
     "output_type": "display_data"
    }
   ],
   "source": [
    "# avg rating over the time\n",
    "%matplotlib inline\n",
    "movies_over = movies_pd[[\"year\",\"rating\"]]\n",
    "grp_over= movies_over.groupby(\"year\").mean()\n",
    "grp_over.plot(title=\"Yearly average for all movies\")"
   ]
  },
  {
   "cell_type": "code",
   "execution_count": 134,
   "metadata": {},
   "outputs": [
    {
     "data": {
      "text/plain": [
       "<matplotlib.axes._subplots.AxesSubplot at 0x1f92e3c3860>"
      ]
     },
     "execution_count": 134,
     "metadata": {},
     "output_type": "execute_result"
    },
    {
     "data": {
      "image/png": "[encoded data removed]",
      "text/plain": [
       "<matplotlib.figure.Figure at 0x1f92e4b0c18>"
      ]
     },
     "metadata": {},
     "output_type": "display_data"
    }
   ],
   "source": [
    "#Total number of votes per year\n",
    "%matplotlib inline\n",
    "tot_mov = movies_pd[[\"year\",\"votes\"]]\n",
    "grp_vot= tot_mov.groupby(\"year\").sum()\n",
    "grp_vot.plot(title=\"Total number of votes per year\")"
   ]
  }
 ],
 "metadata": {
  "anaconda-cloud": {},
  "kernelspec": {
   "display_name": "Python 3",
   "language": "python",
   "name": "python3"
  },
  "language_info": {
   "codemirror_mode": {
    "name": "ipython",
    "version": 3
   },
   "file_extension": ".py",
   "mimetype": "text/x-python",
   "name": "python",
   "nbconvert_exporter": "python",
   "pygments_lexer": "ipython3",
   "version": "3.6.3"
  }
 },
 "nbformat": 4,
 "nbformat_minor": 1
}
